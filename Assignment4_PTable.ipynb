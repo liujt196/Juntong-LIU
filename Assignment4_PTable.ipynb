{
 "cells": [
  {
   "cell_type": "markdown",
   "metadata": {},
   "source": [
    "# periodic_table"
   ]
  },
  {
   "cell_type": "code",
   "execution_count": 1,
   "metadata": {},
   "outputs": [],
   "source": [
    "periodic_table = {}\n",
    "class element:\n",
    "    def __init__(self,sym,name,atom,number,row,colum):\n",
    "        self.symbol = sym\n",
    "        self.name = name\n",
    "        self.atomic = atom\n",
    "        self.number = number\n",
    "        self.row = row\n",
    "        self.column = column"
   ]
  },
  {
   "cell_type": "markdown",
   "metadata": {},
   "source": [
    "define object symbol,name,atom,number,row,colum"
   ]
  },
  {
   "cell_type": "code",
   "execution_count": 3,
   "metadata": {},
   "outputs": [],
   "source": [
    "def main_window():\n",
    "    print(\"\\n\\n\")\n",
    "    print(\"choose option you want:\\n\")\n",
    "    print(\"1. See all the information that is stored about any element, by entering that element's symbol\")\n",
    "    print(\"2. Choose a property, and see that property for each element in the table.\")\n",
    "    print(\"3. Enter a new element\")\n",
    "    print(\"4. Change the attributes of an element, by entering the element's symbol.\")\n",
    "    print(\"5.Exit the program\")"
   ]
  },
  {
   "cell_type": "markdown",
   "metadata": {},
   "source": [
    "the user menu to select operation"
   ]
  },
  {
   "cell_type": "code",
   "execution_count": 4,
   "metadata": {},
   "outputs": [],
   "source": [
    "def checkperiodic_table(element,n):\n",
    "    if n == 1 or n == 2:\n",
    "        print(\"symbol   \"+ element.symbol)\n",
    "    if n == 1 or n == 3:\n",
    "        print(\"name   \" + element.name)\n",
    "    if n == 1 or n == 4:\n",
    "        print(\"atomic   \" + str(element.atomic))\n",
    "    if n == 1 or n == 5:\n",
    "        print(\"number   \" + str(element.number))\n",
    "    if n == 1 or n == 6:\n",
    "        print(\"row   \" + str(element.row))\n",
    "    if n == 1 or n == 7:\n",
    "        print(\"column   \" + str(element.column))"
   ]
  },
  {
   "cell_type": "markdown",
   "metadata": {},
   "source": [
    "the function that check each properity in dictionary"
   ]
  },
  {
   "cell_type": "code",
   "execution_count": null,
   "metadata": {},
   "outputs": [
    {
     "name": "stdout",
     "output_type": "stream",
     "text": [
      "\n",
      "\n",
      "\n",
      "choose option you want:\n",
      "\n",
      "1. See all the information that is stored about any element, by entering that element's symbol\n",
      "2. Choose a property, and see that property for each element in the table.\n",
      "3. Enter a new element\n",
      "4. Change the attributes of an element, by entering the element's symbol.\n",
      "5.Exit the program\n"
     ]
    }
   ],
   "source": [
    "while 1:\n",
    "    main_window()\n",
    "    option = int(input(\"enter your option\\n\"))\n",
    "    if option == 1:\n",
    "        sym = input(\"enter symbol: \")\n",
    "        checkperiodic_table(periodic_table[sym],1)\n",
    "    elif option == 2:\n",
    "        print(\"enter property you want to see:\\n\")\n",
    "        print(\"1. view all symbol\\n\")\n",
    "        print(\"2. view all name\\n\")\n",
    "        print(\"3. view all atomic\\n\")\n",
    "        print(\"4. view all number\\n\")\n",
    "        print(\"5. view all row\\n\")\n",
    "        print(\"6. view all column\\n\")\n",
    "        choice = int(input())\n",
    "        if choice == 1:\n",
    "            for i in periodic_table.keys():\n",
    "                checkperiodic_table(periodic_table[i],2)\n",
    "        elif choice == 2:\n",
    "            for i in periodic_table.keys():\n",
    "                checkperiodic_table(periodic_table[i],3)\n",
    "        elif chioce == 3:\n",
    "            for i in periodic_table.keys():\n",
    "                checkperiodic_table(periodic_table[i],4)\n",
    "        elif choice == 4:\n",
    "            for i in periodic_table.keys():\n",
    "                checkperiodic_table(periodic_table[i],5)\n",
    "        elif choice == 5:\n",
    "            for i in periodic_table.keys():\n",
    "                checkperiodic_table(periodic_table[i],6)\n",
    "        elif choice == 6:\n",
    "            for i in periodic_table.keys():\n",
    "                checkperiodic_table(periodic_table[i],7)\n",
    "    elif option == 3:\n",
    "        sym = input(\"enter symbol: \")\n",
    "        name = input(\"enter element name: \")\n",
    "        atom = int(input(\"enter atomic number: \"))\n",
    "        number = int(input(\"enter element number: \"))\n",
    "        row = int(input(\"enter row number: \"))\n",
    "        column = int(input(\"enter column number: \"))\n",
    "\n",
    "        if sym not in periodic_table.keys():\n",
    "            e = element(sym,name,atom,number,row,column)\n",
    "            periodic_table[sym] = e\n",
    "            print(sym + \"  added\\n\")\n",
    "        else:\n",
    "            print(sym + \"  already in\\n\")\n",
    "\n",
    "    elif option == 4:\n",
    "        sym = input(\"enter symbol: \")\n",
    "        name = input(\"enter element name: \")\n",
    "        atom = int(input(\"enter atomic number: \"))\n",
    "        number = int(input(\"enter element number: \"))\n",
    "        row = int(input(\"enter row number: \"))\n",
    "        column = int(input(\"enter column number: \"))\n",
    "\n",
    "        e = element(sym, name, atom, number, row, column)\n",
    "        periodic_table[sym] = e\n",
    "        print(sym + \"  updated\\n\")\n",
    "    elif option == 5:\n",
    "        print(\"exit\")\n",
    "        break"
   ]
  },
  {
   "cell_type": "code",
   "execution_count": null,
   "metadata": {},
   "outputs": [],
   "source": [
    "5 option can choose"
   ]
  }
 ],
 "metadata": {
  "kernelspec": {
   "display_name": "Python 3",
   "language": "python",
   "name": "python3"
  },
  "language_info": {
   "codemirror_mode": {
    "name": "ipython",
    "version": 3
   },
   "file_extension": ".py",
   "mimetype": "text/x-python",
   "name": "python",
   "nbconvert_exporter": "python",
   "pygments_lexer": "ipython3",
   "version": "3.7.3"
  }
 },
 "nbformat": 4,
 "nbformat_minor": 2
}
