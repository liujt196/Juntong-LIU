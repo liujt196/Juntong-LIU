{
 "cells": [
  {
   "cell_type": "markdown",
   "metadata": {},
   "source": [
    "# Juntong Liu&Pengkai Fan"
   ]
  },
  {
   "cell_type": "code",
   "execution_count": null,
   "metadata": {},
   "outputs": [],
   "source": [
    "movie = {}"
   ]
  },
  {
   "cell_type": "code",
   "execution_count": null,
   "metadata": {},
   "outputs": [],
   "source": [
    "class actor:\n",
    "    def __init__(self, info):\n",
    "        self.name = info[0]\n",
    "        self.birth = info[1]\n",
    "        self.nationality = info[2]"
   ]
  },
  {
   "cell_type": "code",
   "execution_count": null,
   "metadata": {},
   "outputs": [],
   "source": [
    "class properity:\n",
    "    def __init__(self, Movie, Year, info, Genre, Review, Status, Counter):\n",
    "        self.movie = Movie\n",
    "        self.year = Year\n",
    "        self.genre = Genre\n",
    "        self.review = Review\n",
    "        self.sta = Status\n",
    "        self.actor = actor(info)\n",
    "        self.count = Counter"
   ]
  },
  {
   "cell_type": "code",
   "execution_count": null,
   "metadata": {},
   "outputs": [],
   "source": [
    "def main_window():\n",
    "    print(\"\\n\\n\")\n",
    "    print(\"choose option you want:\\n\")\n",
    "    print(\"1. Add the movie properity\")\n",
    "    print(\"2. Choose the movie you want to watch.\")\n",
    "    print(\"3. Writing a review about a movie\")\n",
    "    print(\"4. Borrowing the movie\")\n",
    "    print(\"5. Returning the movie\")\n",
    "    print(\"6. list the detail of the movie\")"
   ]
  },
  {
   "cell_type": "code",
   "execution_count": null,
   "metadata": {},
   "outputs": [],
   "source": [
    "def checkmovie_properity(properity):\n",
    "    print(\"Movie:   \" + properity.movie)\n",
    "    print(\"Year:   \" + str(properity.year))\n",
    "    print(\"Genre:   \" + properity.genre)\n",
    "    print(\"actors' name:   \" + properity.actor.name)\n",
    "    print(\"actors' birth:\" + properity.actor.birth)\n",
    "    print(\"actors' nationality\" + properity.actor.nationality)\n",
    "    print(\"Review:   \" + properity.review)\n",
    "    print(\"Watch count:   \" + str(properity.count))"
   ]
  },
  {
   "cell_type": "code",
   "execution_count": null,
   "metadata": {},
   "outputs": [],
   "source": [
    "while 1:\n",
    "    main_window()\n",
    "    option = int(input(\"Select your choice\\n\"))\n",
    "    if option == 1:\n",
    "        Movie = input(\"enter the movie name: \")\n",
    "        Year = input(\"enter the movie year: \")\n",
    "        Genre = input(\"enter movie genre: \")\n",
    "        # info = actor.INFO\n",
    "        AA = input(\"enter movie actors: \")\n",
    "        BB = input(\"enter movie actors birth: \")\n",
    "        CC = input(\"country\")\n",
    "        XX = [AA,BB,CC]\n",
    "        actor1 = actor(XX)\n",
    "\n",
    "        Review = \" \"\n",
    "        Status = True\n",
    "        Counter = 0\n",
    "        if Movie not in movie.keys():\n",
    "            e = properity(Movie, Year, XX, Genre, Review, Status, Counter)\n",
    "            movie[Movie] = e\n",
    "            print(Movie + \"  added\\n\")\n",
    "        else:\n",
    "            print(Movie + \"  already in\\n\")\n",
    "\n",
    "    elif option == 2:\n",
    "        Movie = input(\"please input the name of movie you want to watch\")\n",
    "        Counter += 1\n",
    "        e = properity(Movie, Year, XX, Genre, Review, Status, Counter)\n",
    "        movie[Movie] = e\n",
    "\n",
    "    elif option == 3:\n",
    "        Movie = input(\"enter the movie name\")\n",
    "        Review = input(\"enter movie review\")\n",
    "        e = properity(Movie, Year, XX, Genre, Review, Status, Counter)\n",
    "        movie[Movie] = e\n",
    "        print(Movie + \"  updated\\n\")\n",
    "\n",
    "    elif option == 4:\n",
    "        Movie = input(\"enter the movie name\")\n",
    "        if Status == True:\n",
    "\n",
    "            Status = False\n",
    "            e = properity(Movie, Year, XX, Genre, Review, Status, Counter)\n",
    "            movie[Movie] = e\n",
    "            print(Movie + \"  borrowed\\n\")\n",
    "        else:\n",
    "            print(Movie + \"  Not available right now\" )\n",
    "\n",
    "\n",
    "    elif option == 5:\n",
    "        Movie = input(\"enter the movie name\")\n",
    "        Status = True\n",
    "        e = properity(Movie, Year, XX, Genre, Review, Status, Counter)\n",
    "        print(Movie + \"   returned\")\n",
    "\n",
    "    elif option == 6:\n",
    "        Movie = input(\"enter the movie name\")\n",
    "        checkmovie_properity(movie[Movie])"
   ]
  }
 ],
 "metadata": {
  "kernelspec": {
   "display_name": "Python 3",
   "language": "python",
   "name": "python3"
  },
  "language_info": {
   "codemirror_mode": {
    "name": "ipython",
    "version": 3
   },
   "file_extension": ".py",
   "mimetype": "text/x-python",
   "name": "python",
   "nbconvert_exporter": "python",
   "pygments_lexer": "ipython3",
   "version": "3.7.3"
  }
 },
 "nbformat": 4,
 "nbformat_minor": 2
}
