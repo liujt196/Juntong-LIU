{
 "cells": [
  {
   "cell_type": "code",
   "execution_count": 3,
   "metadata": {
    "scrolled": true
   },
   "outputs": [
    {
     "name": "stdout",
     "output_type": "stream",
     "text": [
      "please enter money you have enter five format is 1,2,3,4\n",
      "112,421,251,521,522\n"
     ]
    }
   ],
   "source": [
    "x = input(\"please enter money you have enter five format is 1,2,3,4\\n\")\n",
    "list = x.split(\",\")\n",
    "list = [int(list[i]) for i in range(len(list))]"
   ]
  },
  {
   "cell_type": "markdown",
   "metadata": {},
   "source": [
    "split input to a list with ','"
   ]
  },
  {
   "cell_type": "code",
   "execution_count": 4,
   "metadata": {},
   "outputs": [],
   "source": [
    "list.sort()"
   ]
  },
  {
   "cell_type": "markdown",
   "metadata": {},
   "source": [
    "sort list"
   ]
  },
  {
   "cell_type": "code",
   "execution_count": 5,
   "metadata": {},
   "outputs": [],
   "source": [
    "value = list"
   ]
  },
  {
   "cell_type": "markdown",
   "metadata": {},
   "source": [
    "define value"
   ]
  },
  {
   "cell_type": "code",
   "execution_count": 6,
   "metadata": {},
   "outputs": [],
   "source": [
    "sum = 0\n",
    "for i in range(0, len(list)):\n",
    "    sum += list[i]"
   ]
  },
  {
   "cell_type": "markdown",
   "metadata": {},
   "source": [
    "get sum of the list"
   ]
  },
  {
   "cell_type": "code",
   "execution_count": 7,
   "metadata": {},
   "outputs": [
    {
     "name": "stdout",
     "output_type": "stream",
     "text": [
      "The skinniest wallet has $112 in it.\n",
      "The fattest wallet has $522 in it\n",
      "All together, these wallets have[112, 251, 421, 521, 522]in them.\n",
      "All together, the total value of these wallets is worth $1827\n"
     ]
    }
   ],
   "source": [
    "print(\"The skinniest wallet has $\" + str(list[0]) + \" in it.\")\n",
    "print(\"The fattest wallet has $\" + str(list[4]) + \" in it\")\n",
    "print(\"All together, these wallets have\" + str(list) + \"in them.\")\n",
    "print(\"All together, the total value of these wallets is worth $\" + str(sum))"
   ]
  },
  {
   "cell_type": "markdown",
   "metadata": {},
   "source": [
    "print all I need, the smallest, the biggest, the list, the sum of the list"
   ]
  }
 ],
 "metadata": {
  "kernelspec": {
   "display_name": "Python 3",
   "language": "python",
   "name": "python3"
  },
  "language_info": {
   "codemirror_mode": {
    "name": "ipython",
    "version": 3
   },
   "file_extension": ".py",
   "mimetype": "text/x-python",
   "name": "python",
   "nbconvert_exporter": "python",
   "pygments_lexer": "ipython3",
   "version": "3.7.3"
  }
 },
 "nbformat": 4,
 "nbformat_minor": 2
}
